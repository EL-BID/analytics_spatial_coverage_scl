{
 "cells": [
  {
   "cell_type": "markdown",
   "id": "ac205890",
   "metadata": {},
   "source": [
    "# Get isochrones"
   ]
  },
  {
   "cell_type": "code",
   "execution_count": 5,
   "id": "54b23b1b",
   "metadata": {},
   "outputs": [],
   "source": [
    "from utils_spatial import *\n",
    "access_token = os.environ.get(\"access_token_dp\")"
   ]
  },
  {
   "cell_type": "code",
   "execution_count": 23,
   "id": "a09b2fcb",
   "metadata": {},
   "outputs": [],
   "source": [
    "# Country and Amenity\n",
    "###########################\n",
    "amenity = 'school'\n",
    "# Transportation profile\n",
    "###########################\n",
    "transport_profile='driving'\n",
    "\n",
    "# Time profile\n",
    "###########################\n",
    "time_profiles=[45, 15, 30]"
   ]
  },
  {
   "cell_type": "code",
   "execution_count": 25,
   "id": "8ece470c",
   "metadata": {},
   "outputs": [],
   "source": [
    "# amenity DB\n",
    "amenities_full = pd.read_csv(scldatalake + 'Geospatial infrastructure/Education Facilities/education_facilities.csv', low_memory=False).dropna()\n",
    "amenity = np.unique(amenities_full.amenity)[0]"
   ]
  },
  {
   "cell_type": "code",
   "execution_count": 26,
   "id": "f4481622",
   "metadata": {},
   "outputs": [],
   "source": [
    "countries = pd.read_excel(scldatalake + 'Manuals and Standards/IADB country and area codes for statistical use/IADB_country_codes_admin_0.xlsx', engine='openpyxl')\n",
    "countries = countries[~(countries.iadb_region_code.isna())]\n",
    "countries = list(np.unique(countries.isoalpha3))"
   ]
  },
  {
   "cell_type": "code",
   "execution_count": null,
   "id": "5ecbbb84",
   "metadata": {},
   "outputs": [],
   "source": [
    "%%capture\n",
    "output = create_isochrone_analysis_countries(amenities_full, countries, amenity, profile, time_profiles)"
   ]
  },
  {
   "cell_type": "markdown",
   "id": "8f7b33c1",
   "metadata": {},
   "source": [
    "# Geojson"
   ]
  },
  {
   "cell_type": "code",
   "execution_count": null,
   "id": "38e46cd9",
   "metadata": {},
   "outputs": [],
   "source": [
    "%%capture\n",
    "geom = gpd.GeoDataFrame(output, geometry='multipolygon')"
   ]
  },
  {
   "cell_type": "code",
   "execution_count": null,
   "id": "e2900ac0",
   "metadata": {},
   "outputs": [],
   "source": [
    "geom[['isoalpha3', 'amenity', 'profile', 'minutes', 'multipolygon']].to_file(f\"../data/LAC_{amenity}_{transport_profile}.geojson\", driver='GeoJSON')"
   ]
  },
  {
   "cell_type": "markdown",
   "id": "2cda54d4",
   "metadata": {},
   "source": [
    "# CSV"
   ]
  },
  {
   "cell_type": "code",
   "execution_count": null,
   "id": "4b9758a3",
   "metadata": {},
   "outputs": [],
   "source": [
    "output.to_csv(f\"../data/LAC_{amenity}_{profile}.csv\", index=False)\n",
    "output = output[['isoalpha3', 'amenity', 'profile', 'minutes', 'multipolygon']]\n",
    "output.to_csv(f\"../data/LAC_{amenity}_{profile}_subset.csv\", index=False)"
   ]
  },
  {
   "cell_type": "code",
   "execution_count": null,
   "id": "cbff1123",
   "metadata": {},
   "outputs": [],
   "source": [
    "import matplotlib.pyplot as plt\n",
    "plt.rcParams['figure.figsize'] = [30, 15]\n",
    "geom.plot()"
   ]
  }
 ],
 "metadata": {
  "kernelspec": {
   "display_name": "conda_python3",
   "language": "python",
   "name": "conda_python3"
  },
  "language_info": {
   "codemirror_mode": {
    "name": "ipython",
    "version": 3
   },
   "file_extension": ".py",
   "mimetype": "text/x-python",
   "name": "python",
   "nbconvert_exporter": "python",
   "pygments_lexer": "ipython3",
   "version": "3.6.13"
  }
 },
 "nbformat": 4,
 "nbformat_minor": 5
}
