{
 "cells": [
  {
   "cell_type": "markdown",
   "id": "7fd2e1d7",
   "metadata": {},
   "source": [
    "# Get isochrones"
   ]
  },
  {
   "cell_type": "code",
   "execution_count": 12,
   "id": "06efa4c1",
   "metadata": {},
   "outputs": [],
   "source": [
    "from utils_spatial import *\n",
    "access_token = os.environ.get(\"access_token_dp\")\n",
    "access_token = 'pk.eyJ1IjoiZGF0YS1wYXJ0bmVyc2hpcC1pZGIiLCJhIjoiY2t5a2hucmJ3MjJzeDJ2bWwzbWR1bjQ2cSJ9.I07FTW_QfGQy6culczq3xg'"
   ]
  },
  {
   "cell_type": "code",
   "execution_count": 13,
   "id": "6b22d166",
   "metadata": {},
   "outputs": [],
   "source": [
    "# Country and Amenity\n",
    "###########################\n",
    "amenity = 'hospital'\n",
    "\n",
    "# Transportation profile\n",
    "###########################\n",
    "profile='driving'\n",
    "\n",
    "# Time profile\n",
    "###########################\n",
    "time_profiles=[45, 15, 30]\n"
   ]
  },
  {
   "cell_type": "code",
   "execution_count": 14,
   "id": "44273486",
   "metadata": {},
   "outputs": [],
   "source": [
    "# amenity DB\n",
    "amenities_full = pd.read_csv(scldatalake + 'Geospatial infrastructure/Healthcare Facilities/healthcare_facilities.csv', low_memory=False)\n",
    "amenities_full.head()\n",
    "\n",
    "amenity = np.unique(amenities_full.amenity)[0]"
   ]
  },
  {
   "cell_type": "code",
   "execution_count": 27,
   "id": "271c27fb",
   "metadata": {},
   "outputs": [
    {
     "data": {
      "text/plain": [
       "array(['ARG', 'BHS', 'BLZ', 'BOL', 'BRA', 'BRB', 'CHL', 'COL', 'CRI',\n",
       "       'DOM', 'ECU', 'GTM', 'GUY', 'HND', 'HTI', 'JAM', 'MEX', 'NIC',\n",
       "       'PAN', 'PER', 'PRY', 'SLV', 'SUR', 'TTO', 'URY', 'VEN'],\n",
       "      dtype=object)"
      ]
     },
     "execution_count": 27,
     "metadata": {},
     "output_type": "execute_result"
    }
   ],
   "source": [
    "countries = pd.read_excel(scldatalake + 'Manuals and Standards/IADB country and area codes for statistical use/IADB_country_codes_admin_0.xlsx', engine='openpyxl')\n",
    "countries = countries[~(countries.iadb_region_code.isna())]\n",
    "countries = np.unique(countries.isoalpha3)\n",
    "countries"
   ]
  },
  {
   "cell_type": "code",
   "execution_count": null,
   "id": "a82022b3",
   "metadata": {},
   "outputs": [],
   "source": [
    "%%capture\n",
    "output = create_isochrone_analysis_countries(amenities_full, countries)"
   ]
  },
  {
   "cell_type": "code",
   "execution_count": null,
   "id": "7aadafb2",
   "metadata": {},
   "outputs": [],
   "source": [
    "#output"
   ]
  }
 ],
 "metadata": {
  "kernelspec": {
   "display_name": "conda_python3",
   "language": "python",
   "name": "conda_python3"
  },
  "language_info": {
   "codemirror_mode": {
    "name": "ipython",
    "version": 3
   },
   "file_extension": ".py",
   "mimetype": "text/x-python",
   "name": "python",
   "nbconvert_exporter": "python",
   "pygments_lexer": "ipython3",
   "version": "3.6.13"
  }
 },
 "nbformat": 4,
 "nbformat_minor": 5
}
