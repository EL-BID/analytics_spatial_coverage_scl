{
 "cells": [
  {
   "cell_type": "markdown",
   "id": "d388e745",
   "metadata": {},
   "source": [
    "# Get amenities LAC"
   ]
  },
  {
   "cell_type": "code",
   "execution_count": 1,
   "id": "59275df7",
   "metadata": {},
   "outputs": [
    {
     "name": "stderr",
     "output_type": "stream",
     "text": [
      "/home/ec2-user/anaconda3/envs/python3/lib/python3.6/site-packages/boto3/compat.py:88: PythonDeprecationWarning: Boto3 will no longer support Python 3.6 starting May 30, 2022. To continue receiving service updates, bug fixes, and security updates please upgrade to Python 3.7 or later. More information can be found here: https://aws.amazon.com/blogs/developer/python-support-policy-updates-for-aws-sdks-and-tools/\n",
      "  warnings.warn(warning, PythonDeprecationWarning)\n"
     ]
    }
   ],
   "source": [
    "#https://wiki.openstreetmap.org/wiki/Key:amenity#Education\n",
    "\n",
    "#!pip install backoff\n",
    "from utils_spatial import *\n",
    "import boto3\n",
    "import time\n",
    "\n",
    "s3 = boto3.resource('s3')\n",
    "s3bucket = s3.Bucket(sclbucket)"
   ]
  },
  {
   "cell_type": "code",
   "execution_count": 2,
   "id": "150b76e6",
   "metadata": {},
   "outputs": [
    {
     "data": {
      "text/plain": [
       "array(['ABW', 'AIA', 'ARG', 'ATG', 'BES', 'BHS', 'BLM', 'BLZ', 'BOL',\n",
       "       'BRA', 'BRB', 'BVT', 'CHL', 'COL', 'CRB', 'CRI', 'CUB', 'CUW',\n",
       "       'CYM', 'DMA', 'DOM', 'ECU', 'FLK', 'GLP', 'GRD', 'GTM', 'GUF',\n",
       "       'GUY', 'HND', 'HTI', 'JAM', 'KNA', 'LAC', 'LCA', 'MAF', 'MEX',\n",
       "       'MSR', 'MTQ', 'NIC', 'OECD', 'PAN', 'PER', 'PRI', 'PRY', 'SGS',\n",
       "       'SLV', 'SUR', 'SXM', 'TCA', 'TTO', 'URY', 'VCT', 'VEN', 'VGB',\n",
       "       'VIR'], dtype=object)"
      ]
     },
     "execution_count": 2,
     "metadata": {},
     "output_type": "execute_result"
    }
   ],
   "source": [
    "countries = pd.read_excel(scldatalake + 'Manuals and Standards/IADB country and area codes for statistical use/IADB_country_codes_admin_0.xlsx', engine='openpyxl')\n",
    "countries = np.unique(countries.isoalpha3)\n",
    "countries"
   ]
  },
  {
   "cell_type": "markdown",
   "id": "d8d508ff",
   "metadata": {},
   "source": [
    "# Healthcare Facilities"
   ]
  },
  {
   "cell_type": "code",
   "execution_count": null,
   "id": "4199b335",
   "metadata": {},
   "outputs": [],
   "source": [
    "amenities = ['hospital']\n",
    "data = get_countries_amenities(amenities, countries, output_path='Geospatial infrastructure/Healthcare Facilities/OSM/OSM_hospital_LAC.csv')"
   ]
  },
  {
   "cell_type": "markdown",
   "id": "1295f9fd",
   "metadata": {},
   "source": [
    "# Financial infrastructure"
   ]
  },
  {
   "cell_type": "code",
   "execution_count": null,
   "id": "a0912a45",
   "metadata": {},
   "outputs": [],
   "source": [
    "amenities = ['bank']\n",
    "data = get_countries_amenities(amenities, countries, output_path='Geospatial infrastructure/Financial infrastructure/BANK/OSM/OSM_bank_LAC.csv')"
   ]
  },
  {
   "cell_type": "code",
   "execution_count": 6,
   "id": "139d8779",
   "metadata": {},
   "outputs": [
    {
     "name": "stdout",
     "output_type": "stream",
     "text": [
      "Please upload *manually* the file Geospatial infrastructure/Healthcare Facilities/HOTOSM/OSM_atm_LAC.csv to SCLData\n"
     ]
    }
   ],
   "source": [
    "amenities = ['atm']\n",
    "data = get_countries_amenities(amenities, countries, output_path='Geospatial infrastructure/Financial infrastructure/ATM/OSM/OSM_atm_LAC.csv')"
   ]
  },
  {
   "cell_type": "markdown",
   "id": "8725f24c",
   "metadata": {},
   "source": [
    "# Education Facilities"
   ]
  },
  {
   "cell_type": "code",
   "execution_count": null,
   "id": "993c47d1",
   "metadata": {},
   "outputs": [],
   "source": [
    "amenities = ['school']\n",
    "data = get_countries_amenities(amenities, countries, output_path='Geospatial infrastructure/Education Facilities/HOTOSM/2022/OSM_school_LAC.csv')"
   ]
  },
  {
   "cell_type": "markdown",
   "id": "d3622f53",
   "metadata": {},
   "source": [
    "# Plot "
   ]
  },
  {
   "cell_type": "code",
   "execution_count": null,
   "id": "78e7c959",
   "metadata": {},
   "outputs": [],
   "source": [
    "plot_lat_lon(data, method='plt')"
   ]
  },
  {
   "cell_type": "code",
   "execution_count": null,
   "id": "30e2a30c",
   "metadata": {},
   "outputs": [],
   "source": [
    "m = plot_lat_lon(data, method='folium', zoom_start=6)\n",
    "m"
   ]
  }
 ],
 "metadata": {
  "kernelspec": {
   "display_name": "conda_python3",
   "language": "python",
   "name": "conda_python3"
  },
  "language_info": {
   "codemirror_mode": {
    "name": "ipython",
    "version": 3
   },
   "file_extension": ".py",
   "mimetype": "text/x-python",
   "name": "python",
   "nbconvert_exporter": "python",
   "pygments_lexer": "ipython3",
   "version": "3.6.13"
  }
 },
 "nbformat": 4,
 "nbformat_minor": 5
}
