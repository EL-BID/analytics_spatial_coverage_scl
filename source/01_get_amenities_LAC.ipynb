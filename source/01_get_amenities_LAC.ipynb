{
 "cells": [
  {
   "cell_type": "markdown",
   "id": "708783b0",
   "metadata": {},
   "source": [
    "# Get amenities LAC\n",
    "https://wiki.openstreetmap.org/wiki/Key:amenity#Education"
   ]
  },
  {
   "cell_type": "code",
   "execution_count": null,
   "id": "bd9530b9",
   "metadata": {},
   "outputs": [],
   "source": [
    "from utils_spatial import *"
   ]
  },
  {
   "cell_type": "markdown",
   "id": "21ba9ce8",
   "metadata": {},
   "source": [
    "# Healthcare Facilities"
   ]
  },
  {
   "cell_type": "code",
   "execution_count": null,
   "id": "e258d635",
   "metadata": {},
   "outputs": [],
   "source": [
    "amenities = ['hospital']\n",
    "data = get_countries_amenities(amenities, countries, output_path='Geospatial infrastructure/Healthcare Facilities/OSM/OSM_hospital_LAC.csv')"
   ]
  },
  {
   "cell_type": "markdown",
   "id": "993e0e3f",
   "metadata": {},
   "source": [
    "# Financial infrastructure"
   ]
  },
  {
   "cell_type": "code",
   "execution_count": null,
   "id": "0389ff5c",
   "metadata": {},
   "outputs": [],
   "source": [
    "amenities = ['bank']\n",
    "data = get_countries_amenities(amenities, countries, output_path='Geospatial infrastructure/Financial infrastructure/BANK/OSM/OSM_bank_LAC.csv')"
   ]
  },
  {
   "cell_type": "code",
   "execution_count": 6,
   "id": "d64c3a83",
   "metadata": {},
   "outputs": [
    {
     "name": "stdout",
     "output_type": "stream",
     "text": [
      "Please upload *manually* the file Geospatial infrastructure/Healthcare Facilities/HOTOSM/OSM_atm_LAC.csv to SCLData\n"
     ]
    }
   ],
   "source": [
    "amenities = ['atm']\n",
    "data = get_countries_amenities(amenities, countries, output_path='Geospatial infrastructure/Financial infrastructure/ATM/OSM/OSM_atm_LAC.csv')"
   ]
  },
  {
   "cell_type": "markdown",
   "id": "43618fce",
   "metadata": {},
   "source": [
    "# Education Facilities"
   ]
  },
  {
   "cell_type": "code",
   "execution_count": null,
   "id": "439a5f59",
   "metadata": {},
   "outputs": [],
   "source": [
    "amenities = ['school']\n",
    "data = get_countries_amenities(amenities, countries, output_path='Geospatial infrastructure/Education Facilities/HOTOSM/2022/OSM_school_LAC.csv')"
   ]
  },
  {
   "cell_type": "markdown",
   "id": "1ce8c3a0",
   "metadata": {},
   "source": [
    "# Plot "
   ]
  },
  {
   "cell_type": "code",
   "execution_count": null,
   "id": "e39e79a2",
   "metadata": {},
   "outputs": [],
   "source": [
    "plot_lat_lon(data, method='plt')"
   ]
  },
  {
   "cell_type": "code",
   "execution_count": null,
   "id": "e3b7da85",
   "metadata": {},
   "outputs": [],
   "source": [
    "m = plot_lat_lon(data, method='folium', zoom_start=6)\n",
    "m"
   ]
  }
 ],
 "metadata": {
  "kernelspec": {
   "display_name": "conda_python3",
   "language": "python",
   "name": "conda_python3"
  },
  "language_info": {
   "codemirror_mode": {
    "name": "ipython",
    "version": 3
   },
   "file_extension": ".py",
   "mimetype": "text/x-python",
   "name": "python",
   "nbconvert_exporter": "python",
   "pygments_lexer": "ipython3",
   "version": "3.6.13"
  }
 },
 "nbformat": 4,
 "nbformat_minor": 5
}
