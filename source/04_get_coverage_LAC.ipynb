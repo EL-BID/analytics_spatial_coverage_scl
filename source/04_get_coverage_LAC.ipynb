{
 "cells": [
  {
   "cell_type": "markdown",
   "id": "1bee3a6e",
   "metadata": {},
   "source": [
    "# Get Coverage"
   ]
  },
  {
   "cell_type": "code",
   "execution_count": 2,
   "id": "ca429647",
   "metadata": {},
   "outputs": [],
   "source": [
    "#!pip install mapclassify\n",
    "from utils_spatial import *"
   ]
  },
  {
   "cell_type": "code",
   "execution_count": 3,
   "id": "cd7ebfc6",
   "metadata": {},
   "outputs": [],
   "source": [
    "countries = pd.read_excel(scldatalake + 'Manuals and Standards/IADB country and area codes for statistical use/IADB_country_codes_admin_0.xlsx', engine='openpyxl')\n",
    "countries = countries[~(countries.iadb_region_code.isna())]\n",
    "countries = list(np.unique(countries.isoalpha3))"
   ]
  },
  {
   "cell_type": "code",
   "execution_count": 23,
   "id": "d70236a6",
   "metadata": {},
   "outputs": [],
   "source": [
    "# Country and Amenity\n",
    "###########################\n",
    "amenities = ['hospital','school']\n",
    "\n",
    "# Transportation profile\n",
    "###########################\n",
    "profile='driving'\n",
    "\n",
    "# Population of interest\n",
    "###########################\n",
    "minutes = ['15','30', '45']"
   ]
  },
  {
   "cell_type": "code",
   "execution_count": 6,
   "id": "9507c348",
   "metadata": {},
   "outputs": [],
   "source": [
    "# state level geoms\n",
    "level='2'\n",
    "world = (gpd.read_file(scldatalake +\n",
    "                      'Geospatial Basemaps/Cartographic Boundary Files/world/level-1/world-level-1.zip')\n",
    "         .rename(columns={\"GID_0\":\"isoalpha3\", 'NAME_1':'admin_name'}))\n",
    "world = world[(world.isoalpha3.isin(countries))]"
   ]
  },
  {
   "cell_type": "code",
   "execution_count": null,
   "id": "4cd365e1",
   "metadata": {},
   "outputs": [],
   "source": [
    "%%capture\n",
    "for amenity in amenities:\n",
    "    for population_ in ['total_population','women_of_reproductive_age_15_49', 'youth_15_24', 'elderly_60_plus']:  \n",
    "        country_result = create_coverage_dataset(world, amenity, population_, profile, minutes)"
   ]
  }
 ],
 "metadata": {
  "kernelspec": {
   "display_name": "conda_python3",
   "language": "python",
   "name": "conda_python3"
  },
  "language_info": {
   "codemirror_mode": {
    "name": "ipython",
    "version": 3
   },
   "file_extension": ".py",
   "mimetype": "text/x-python",
   "name": "python",
   "nbconvert_exporter": "python",
   "pygments_lexer": "ipython3",
   "version": "3.6.13"
  }
 },
 "nbformat": 4,
 "nbformat_minor": 5
}
