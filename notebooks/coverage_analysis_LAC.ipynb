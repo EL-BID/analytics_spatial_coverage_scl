{
 "cells": [
  {
   "cell_type": "code",
   "execution_count": 3,
   "id": "10303730",
   "metadata": {},
   "outputs": [],
   "source": [
    "#!pip install h3\n",
    "import json\n",
    "import branca.colormap as cm\n",
    "from geojson import Feature, Point, FeatureCollection\n",
    "from geopandas.tools import sjoin\n",
    "from h3 import geo_to_h3, h3_to_geo_boundary\n",
    "from shapely.geometry import Polygon\n",
    "import seaborn as sns\n",
    "\n",
    "#%%capture\n",
    "import ast\n",
    "import gc\n",
    "import shapely.wkt\n",
    "import shapely.geometry as geom\n",
    "from shapely.ops import unary_union\n",
    "from shapely.geometry import shape\n",
    "\n",
    "\n",
    "from utils_spatial import *\n",
    "# temp token\n",
    "#access_token"
   ]
  },
  {
   "cell_type": "markdown",
   "id": "b5c0a4f8",
   "metadata": {},
   "source": [
    "## Parameters definition"
   ]
  },
  {
   "cell_type": "code",
   "execution_count": 208,
   "id": "7ee94d36",
   "metadata": {},
   "outputs": [
    {
     "data": {
      "text/plain": [
       "array(['ABW', 'AIA', 'ARG', 'ATG', 'BES', 'BHS', 'BLM', 'BLZ', 'BOL',\n",
       "       'BRA', 'BRB', 'BVT', 'CHL', 'COL', 'CRB', 'CRI', 'CUB', 'CUW',\n",
       "       'CYM', 'DMA', 'DOM', 'ECU', 'FLK', 'GLP', 'GRD', 'GTM', 'GUF',\n",
       "       'GUY', 'HND', 'HTI', 'JAM', 'KNA', 'LAC', 'LCA', 'MAF', 'MEX',\n",
       "       'MSR', 'MTQ', 'NIC', 'OECD', 'PAN', 'PER', 'PRI', 'PRY', 'SGS',\n",
       "       'SLV', 'SUR', 'SXM', 'TCA', 'TTO', 'URY', 'VCT', 'VEN', 'VGB',\n",
       "       'VIR'], dtype=object)"
      ]
     },
     "execution_count": 208,
     "metadata": {},
     "output_type": "execute_result"
    }
   ],
   "source": [
    "countries = pd.read_excel(scldatalake + 'Manuals and Standards/IADB country and area codes for statistical use/IADB_country_codes_admin_0.xlsx', engine='openpyxl')\n",
    "countries = np.unique(countries.isoalpha3)\n",
    "#countries = countries[:3]\n",
    "countries"
   ]
  },
  {
   "cell_type": "code",
   "execution_count": 4,
   "id": "370c2463",
   "metadata": {},
   "outputs": [],
   "source": [
    "# Country and Amenity\n",
    "###########################\n",
    "amenity = 'hospital'\n",
    "\n",
    "# Transportation profile\n",
    "###########################\n",
    "profile='driving'\n",
    "time_profiles=[45, 15, 30]\n",
    "\n",
    "amenities_full = pd.read_csv(scldatalake + 'Geospatial infrastructure/Healthcare Facilities/healthcare_facilities.csv', low_memory=False)"
   ]
  },
  {
   "cell_type": "code",
   "execution_count": 13,
   "id": "49c82f49",
   "metadata": {},
   "outputs": [],
   "source": [
    "#amenities_full = pd.read_csv(scldatalake + 'Geospatial infrastructure/Education Facilities/education_facilities.csv', low_memory=False)\n",
    "#len(amenities_full)*3*4"
   ]
  },
  {
   "cell_type": "code",
   "execution_count": 14,
   "id": "fe22a9df",
   "metadata": {},
   "outputs": [],
   "source": [
    "#len(amenities_iso[amenities_iso.duplicated('lon')].sort_values('lon'))"
   ]
  },
  {
   "cell_type": "markdown",
   "id": "8c322697",
   "metadata": {},
   "source": [
    "## Get amenity from OSM"
   ]
  },
  {
   "cell_type": "code",
   "execution_count": 15,
   "id": "f6f3e0d6",
   "metadata": {},
   "outputs": [],
   "source": [
    "isochrones = []"
   ]
  },
  {
   "cell_type": "code",
   "execution_count": 411,
   "id": "629c2c05",
   "metadata": {},
   "outputs": [],
   "source": [
    "%%capture\n",
    "for isoalpha3 in countries:\n",
    "    amenities_iso = amenities_full[amenities_full.isoalpha3 == isoalpha3].reset_index(drop=True).head(10)\n",
    "    try:\n",
    "        project_name = f'{isoalpha3}_{amenity}' \n",
    "        isochrones_data = create_isochrone_analysis(data = amenities_iso, project_name=project_name,\n",
    "                                                    output_folder='../data', token=access_token, \n",
    "                                                    profile=profile, time_profiles=time_profiles)    \n",
    "        isochrones_data['isoalpha3'] = isoalpha3\n",
    "        isochrones.append(isochrones_data)  \n",
    "        print('true ' + isoalpha3)\n",
    "    except:\n",
    "        print('Error ' + isoalpha3)"
   ]
  },
  {
   "cell_type": "code",
   "execution_count": 412,
   "id": "d2cefebd",
   "metadata": {},
   "outputs": [],
   "source": [
    "output = pd.concat(isochrones)\n",
    "output['amenity'] = 'hospital'"
   ]
  },
  {
   "cell_type": "code",
   "execution_count": 414,
   "id": "d96cf23c",
   "metadata": {},
   "outputs": [],
   "source": [
    "old = pd.read_csv(scldatalake + 'Geospatial infrastructure/Healthcare Facilities/isochrones/OSM_hospital_LAC_isochrones_simplify.csv')\n",
    "old = old[old.isoalpha3.isin(['GUY', 'CRI'])]\n",
    "#old"
   ]
  },
  {
   "cell_type": "code",
   "execution_count": 415,
   "id": "97536f30",
   "metadata": {},
   "outputs": [],
   "source": [
    "new = pd.concat([old, output])\n",
    "new = new[['isoalpha3', 'amenity', 'profile', 'minutes', 'multipolygon']]\n",
    "new.to_csv(scldatalake + 'Geospatial infrastructure/Healthcare Facilities/isochrones/OSM_hospital_LAC_isochrones_simplify.csv', \n",
    "           index=False)"
   ]
  },
  {
   "cell_type": "markdown",
   "id": "bfa52e4d",
   "metadata": {},
   "source": [
    "## Update"
   ]
  },
  {
   "cell_type": "code",
   "execution_count": 35,
   "id": "92a33ce0",
   "metadata": {},
   "outputs": [],
   "source": [
    "#isochrones_all = pd.read_csv(scldatalake + 'Geospatial infrastructure/Healthcare Facilities/isochrones/OSM_hospital_LAC_isochrones.csv')\n",
    "#isochrones_all\n",
    "#new = pd.concat([isochrones_all, output]).drop_duplicates()\n",
    "#new.to_csv(scldatalake + 'Geospatial infrastructure/Healthcare Facilities/isochrones/OSM_hospital_LAC_isochrones.csv', index=False)\n",
    "#new = output\n",
    "#new = new[new.isoalpha3.isin(['GUY', 'ARG'])]\n",
    "#new\n",
    "#geom_ = gpd.GeoDataFrame.from_features(eval(new[(new.isoalpha3=='GUY') & (new.minutes==45)]['geometry'][0]))\n",
    "# multi_polygon = to_multipolygon(new[(new.isoalpha3=='GUY') & (new.minutes==45)])\n",
    "#import shapely.geometry as geom\n",
    "#temp = new[['isoalpha3', 'geometry']][(new.isoalpha3=='GUY') & (new.minutes==45)]['geometry']\n",
    "#geom_ = gpd.GeoDataFrame.from_features(eval(temp.values[0]))\n",
    "#multi_polygon = geom.MultiPolygon(geom_['geometry'].tolist())"
   ]
  },
  {
   "cell_type": "code",
   "execution_count": 2,
   "id": "7a80e4ec",
   "metadata": {},
   "outputs": [],
   "source": [
    "col_list = ['isoalpha3', 'amenity', 'profile', 'minutes', 'geometry']\n",
    "new = pd.read_csv(scldatalake + 'Geospatial infrastructure/Healthcare Facilities/isochrones/OSM_hospital_LAC_isochrones.csv',\n",
    "                  #usecols=col_list,\n",
    "                  nrows=2\n",
    "                 )\n",
    "#new = pd.read_csv('../../../../OSM_hospital_LAC_isochrones.csv', usecols=col_list)\n",
    "#new = new[['isoalpha3', 'amenity', 'profile', 'minutes', 'geometry']]"
   ]
  },
  {
   "cell_type": "raw",
   "id": "b3da4dc7",
   "metadata": {},
   "source": [
    "%%capture\n",
    "\n",
    "#new['multipolygon'] = new.apply(lambda x: to_multipolygon(x), axis=1)\n",
    "#new['multipolygon'] = None\n",
    "#for index, row in new.head(3).iterrows():\n",
    "#    if row['multipolygon'] != None:\n",
    "#        row['multipolygon'] = to_multipolygon(row)\n",
    "#        row['geometry'] = None\n",
    "#        gc.collect()\n",
    "#        print(row['isoalpha3'])"
   ]
  },
  {
   "cell_type": "code",
   "execution_count": 9,
   "id": "b312cdbc",
   "metadata": {},
   "outputs": [],
   "source": [
    "def to_multipolygon(row):\n",
    "    try:\n",
    "        geom_ = gpd.GeoDataFrame.from_features(ast.literal_eval(row['geometry']))\n",
    "        # geom.MultiPolygon(geom_['geometry'].tolist())\n",
    "        return unary_union(geom_['geometry'].tolist())\n",
    "    except:\n",
    "        return None\n",
    "\n",
    "#new['multipolygon'] = new.apply(lambda x: to_multipolygon(x), axis=1)\n",
    "new['multipolygon'] = None\n",
    "for each in range(len(new)):\n",
    "    if (new.iloc[each]['multipolygon'] == None) & (new.iloc[each]['isoalpha3'] not in ['BRA', 'ARG', 'MEX', 'PER']):\n",
    "        new.loc[each, 'multipolygon'] = to_multipolygon(new.iloc[each])\n",
    "        #new.loc[each, 'geometry'] = None\n",
    "        gc.collect()\n",
    "        print(new.iloc[each]['isoalpha3'])"
   ]
  },
  {
   "cell_type": "code",
   "execution_count": 19,
   "id": "388a3086",
   "metadata": {},
   "outputs": [],
   "source": [
    "\n",
    "#new.head(5)\n",
    "row = new.iloc[0]\n",
    "#geom_ = gpd.GeoDataFrame.from_features(ast.literal_eval(row['geometry']))\n",
    "#tt = ast.literal_eval(row['geometry'])\n",
    "#tt = json.loads(row['geometry'][1:-1])\n",
    "#row['geometry'][1:-1]\n",
    "#tt = ast.literal_eval()\n",
    "#row['geometry'][1:-1].split('}, {')[1]\n",
    "#geom_pandas = pd.DataFrame(tt)\n",
    "#temp=shape(geom_pandas.geometry)\n",
    "#test = unary_union(geom_['geometry'].tolist())\n",
    "\n",
    "#p = gpd.GeoSeries(test)\n",
    "#p.plot()\n",
    "#plt.show()\n",
    "\n",
    "#new.isoalpha3"
   ]
  },
  {
   "cell_type": "code",
   "execution_count": 25,
   "id": "d2766229",
   "metadata": {},
   "outputs": [
    {
     "data": {
      "text/html": [
       "<div>\n",
       "<style scoped>\n",
       "    .dataframe tbody tr th:only-of-type {\n",
       "        vertical-align: middle;\n",
       "    }\n",
       "\n",
       "    .dataframe tbody tr th {\n",
       "        vertical-align: top;\n",
       "    }\n",
       "\n",
       "    .dataframe thead th {\n",
       "        text-align: right;\n",
       "    }\n",
       "</style>\n",
       "<table border=\"1\" class=\"dataframe\">\n",
       "  <thead>\n",
       "    <tr style=\"text-align: right;\">\n",
       "      <th></th>\n",
       "      <th>geometry</th>\n",
       "    </tr>\n",
       "  </thead>\n",
       "  <tbody>\n",
       "    <tr>\n",
       "      <th>0</th>\n",
       "      <td>{'coordinates': [[[-70.049194, 12.623888], [-7...</td>\n",
       "    </tr>\n",
       "    <tr>\n",
       "      <th>1</th>\n",
       "      <td>{'coordinates': [[[-70.044925, 12.618621], [-7...</td>\n",
       "    </tr>\n",
       "    <tr>\n",
       "      <th>2</th>\n",
       "      <td>{'coordinates': [[[-70.046602, 12.623212], [-7...</td>\n",
       "    </tr>\n",
       "  </tbody>\n",
       "</table>\n",
       "</div>"
      ],
      "text/plain": [
       "                                            geometry\n",
       "0  {'coordinates': [[[-70.049194, 12.623888], [-7...\n",
       "1  {'coordinates': [[[-70.044925, 12.618621], [-7...\n",
       "2  {'coordinates': [[[-70.046602, 12.623212], [-7..."
      ]
     },
     "execution_count": 25,
     "metadata": {},
     "output_type": "execute_result"
    }
   ],
   "source": [
    "geom_ = pd.DataFrame(ast.literal_eval(row.geometry))\n",
    "from shapely.geometry import Polygon\n",
    "from geojson import Polygon\n",
    "geom_ = gpd.GeoDataFrame(geom_.geometry)\n",
    "geom_"
   ]
  },
  {
   "cell_type": "code",
   "execution_count": null,
   "id": "eedbaeb8",
   "metadata": {},
   "outputs": [],
   "source": [
    "new.iloc[2]['isoalpha3']"
   ]
  },
  {
   "cell_type": "code",
   "execution_count": 5,
   "id": "84ceb557",
   "metadata": {},
   "outputs": [],
   "source": [
    "new = new[['isoalpha3', 'amenity', 'profile', 'minutes', 'multipolygon']]\n",
    "new.to_csv(scldatalake + 'Geospatial infrastructure/Healthcare Facilities/isochrones/OSM_hospital_LAC_isochrones_simplify.csv', index=False)"
   ]
  },
  {
   "cell_type": "code",
   "execution_count": null,
   "id": "3caa8ea7",
   "metadata": {},
   "outputs": [],
   "source": [
    "p = gpd.GeoSeries(new.multipolygon[10])\n",
    "p.plot()\n",
    "plt.show()"
   ]
  }
 ],
 "metadata": {
  "kernelspec": {
   "display_name": "conda_python3",
   "language": "python",
   "name": "conda_python3"
  },
  "language_info": {
   "codemirror_mode": {
    "name": "ipython",
    "version": 3
   },
   "file_extension": ".py",
   "mimetype": "text/x-python",
   "name": "python",
   "nbconvert_exporter": "python",
   "pygments_lexer": "ipython3",
   "version": "3.6.13"
  }
 },
 "nbformat": 4,
 "nbformat_minor": 5
}
