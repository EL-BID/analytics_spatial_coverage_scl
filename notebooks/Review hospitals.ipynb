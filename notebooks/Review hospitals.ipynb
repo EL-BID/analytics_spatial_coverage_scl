{
 "cells": [
  {
   "cell_type": "code",
   "execution_count": 1,
   "id": "e467a6e1",
   "metadata": {},
   "outputs": [
    {
     "name": "stderr",
     "output_type": "stream",
     "text": [
      "/home/ec2-user/anaconda3/envs/python3/lib/python3.6/site-packages/boto3/compat.py:88: PythonDeprecationWarning: Boto3 will no longer support Python 3.6 starting May 30, 2022. To continue receiving service updates, bug fixes, and security updates please upgrade to Python 3.7 or later. More information can be found here: https://aws.amazon.com/blogs/developer/python-support-policy-updates-for-aws-sdks-and-tools/\n",
      "  warnings.warn(warning, PythonDeprecationWarning)\n"
     ]
    }
   ],
   "source": [
    "from utils_spatial import *\n",
    "import boto3\n",
    "import time\n",
    "\n",
    "s3 = boto3.resource('s3')\n",
    "s3bucket = s3.Bucket(sclbucket)"
   ]
  },
  {
   "cell_type": "code",
   "execution_count": 2,
   "id": "bb936e72",
   "metadata": {},
   "outputs": [
    {
     "data": {
      "text/plain": [
       "array(['Aguascalientes', 'Baja California', 'Baja California Sur',\n",
       "       'Campeche', 'Chiapas', 'Chihuahua', 'Ciudad de México',\n",
       "       'Coahuila de Zaragoza', 'Colima', 'Durango', 'Guanajuato',\n",
       "       'Guerrero', 'Hidalgo', 'Jalisco', 'Michoacán de Ocampo', 'Morelos',\n",
       "       'México', 'Nayarit', 'Nuevo León', 'Oaxaca', 'Puebla', 'Querétaro',\n",
       "       'Quintana Roo', 'San Luis Potosí', 'Sinaloa', 'Sonora', 'Tabasco',\n",
       "       'Tamaulipas', 'Tlaxcala', 'Veracruz de Ignacio de la Llave',\n",
       "       'Yucatán', 'Zacatecas'], dtype=object)"
      ]
     },
     "execution_count": 2,
     "metadata": {},
     "output_type": "execute_result"
    }
   ],
   "source": [
    "subregion = pd.read_excel(scldatalake + 'Manuals and Standards/IADB country and area codes for statistical use/IADB_country_codes_admin_1.xlsx', engine='openpyxl')\n",
    "subregion_mex = subregion[subregion.isoalpha3==\"MEX\"]\n",
    "subregion_mex = np.unique(subregion_mex.subregion_name)\n",
    "subregion_mex"
   ]
  },
  {
   "cell_type": "code",
   "execution_count": 3,
   "id": "48322925",
   "metadata": {},
   "outputs": [],
   "source": [
    "def get_subregion_amenity(subregion, amenity):   \n",
    "    \"\"\"\n",
    "    \"\"\"\n",
    "    query = f'''\n",
    "            area[\"name\"=\"{subregion}\"][admin_level=4];\n",
    "            (node[amenity={amenity}](area);\n",
    "              way[amenity={amenity}](area);\n",
    "              rel[amenity={amenity}](area);\n",
    "              );\n",
    "            out center;\n",
    "            '''\n",
    "    r = api.query(query)\n",
    "    \n",
    "    coords_node = pd.DataFrame([{'id': node.id, \n",
    "                                 'lon': node.lon, 'lat': node.lat} \n",
    "                           for node in r.nodes]).reset_index()\n",
    "    coords_way = pd.DataFrame([{'id': way.id, 'lon': way.center_lon, 'lat': way.center_lat}\n",
    "                              for way in r.ways]).reset_index()\n",
    "    coords_relation = pd.DataFrame([{'id': relation.id, 'lon': relation.center_lon, 'lat': relation.center_lat}\n",
    "                              for relation in r.relations]).reset_index()\n",
    "\n",
    "    metadata_node =  pd.DataFrame([node.tags\n",
    "                              for node in r.nodes]).reset_index()\n",
    "    metadata_way = pd.DataFrame([way.tags\n",
    "                              for way in r.ways]).reset_index()\n",
    "    metadata_relation = pd.DataFrame([relation.tags\n",
    "                              for way in r.relations]).reset_index()\n",
    "\n",
    "    output_node = coords_node.merge(metadata_node, on='index').drop('index', axis=1)\n",
    "    output_way = coords_way.merge(metadata_way, on='index').drop('index', axis=1)\n",
    "    output_relation = coords_relation.merge(metadata_relation, on='index').drop('index', axis=1)\n",
    "    output_tot = pd.concat([output_node, output_way, output_relation])\n",
    "    \n",
    "    return output_to"
   ]
  },
  {
   "cell_type": "code",
   "execution_count": 4,
   "id": "56e2b2a7",
   "metadata": {},
   "outputs": [],
   "source": [
    "amenity = 'hospital'\n",
    "subregion = 'Aguascalientes'\n",
    "output_test = get_subregion_amenity(subregion, amenity)"
   ]
  },
  {
   "cell_type": "code",
   "execution_count": 5,
   "id": "55bc86f0",
   "metadata": {},
   "outputs": [
    {
     "data": {
      "text/plain": [
       "13"
      ]
     },
     "execution_count": 5,
     "metadata": {},
     "output_type": "execute_result"
    }
   ],
   "source": [
    "len(output_test)"
   ]
  },
  {
   "cell_type": "code",
   "execution_count": 28,
   "id": "9efc79b5",
   "metadata": {},
   "outputs": [],
   "source": [
    "subregion = np.split(subregion_mex,8)"
   ]
  },
  {
   "cell_type": "code",
   "execution_count": 29,
   "id": "c6c9a9fc",
   "metadata": {},
   "outputs": [
    {
     "name": "stdout",
     "output_type": "stream",
     "text": [
      "['Aguascalientes' 'Baja California' 'Baja California Sur' 'Campeche']\n"
     ]
    }
   ],
   "source": [
    "print(subregion[0])"
   ]
  },
  {
   "cell_type": "code",
   "execution_count": 22,
   "id": "2c473609",
   "metadata": {},
   "outputs": [
    {
     "ename": "AttributeError",
     "evalue": "'list' object has no attribute 'head'",
     "output_type": "error",
     "traceback": [
      "\u001b[0;31m---------------------------------------------------------------------------\u001b[0m",
      "\u001b[0;31mAttributeError\u001b[0m                            Traceback (most recent call last)",
      "\u001b[0;32m<ipython-input-22-ee9dc92176d5>\u001b[0m in \u001b[0;36m<module>\u001b[0;34m\u001b[0m\n\u001b[0;32m----> 1\u001b[0;31m \u001b[0msubregion\u001b[0m\u001b[0;34m.\u001b[0m\u001b[0mhead\u001b[0m\u001b[0;34m(\u001b[0m\u001b[0;34m)\u001b[0m\u001b[0;34m\u001b[0m\u001b[0;34m\u001b[0m\u001b[0m\n\u001b[0m",
      "\u001b[0;31mAttributeError\u001b[0m: 'list' object has no attribute 'head'"
     ]
    }
   ],
   "source": [
    "subregion.head()"
   ]
  },
  {
   "cell_type": "code",
   "execution_count": 52,
   "id": "9bc4bcf8",
   "metadata": {},
   "outputs": [],
   "source": [
    " df_len = pd.DataFrame(columns=['Region', 'Lenght'])\n",
    "mod_df = pd.DataFrame(columns=['Region', 'Lenght'])"
   ]
  },
  {
   "cell_type": "markdown",
   "id": "086591a1",
   "metadata": {},
   "source": [
    "## Obtener los hospitales para todos los estados de México"
   ]
  },
  {
   "cell_type": "code",
   "execution_count": 55,
   "id": "e47cda27",
   "metadata": {},
   "outputs": [],
   "source": [
    "for i in subregion[0]:\n",
    "    amenity = 'hospital'\n",
    "    df_result = get_subregion_amenity(i, amenity)\n",
    "    df_len.loc[len(df.index)]=[i, len(df_result)] \n",
    "\n",
    "\n"
   ]
  },
  {
   "cell_type": "code",
   "execution_count": 56,
   "id": "cf174feb",
   "metadata": {},
   "outputs": [
    {
     "data": {
      "text/html": [
       "<div>\n",
       "<style scoped>\n",
       "    .dataframe tbody tr th:only-of-type {\n",
       "        vertical-align: middle;\n",
       "    }\n",
       "\n",
       "    .dataframe tbody tr th {\n",
       "        vertical-align: top;\n",
       "    }\n",
       "\n",
       "    .dataframe thead th {\n",
       "        text-align: right;\n",
       "    }\n",
       "</style>\n",
       "<table border=\"1\" class=\"dataframe\">\n",
       "  <thead>\n",
       "    <tr style=\"text-align: right;\">\n",
       "      <th></th>\n",
       "      <th>Region</th>\n",
       "      <th>Lenght</th>\n",
       "    </tr>\n",
       "  </thead>\n",
       "  <tbody>\n",
       "    <tr>\n",
       "      <th>1</th>\n",
       "      <td>Campeche</td>\n",
       "      <td>14</td>\n",
       "    </tr>\n",
       "  </tbody>\n",
       "</table>\n",
       "</div>"
      ],
      "text/plain": [
       "     Region Lenght\n",
       "1  Campeche     14"
      ]
     },
     "execution_count": 56,
     "metadata": {},
     "output_type": "execute_result"
    }
   ],
   "source": [
    "df_len.head(20)"
   ]
  },
  {
   "cell_type": "code",
   "execution_count": null,
   "id": "8293c60b",
   "metadata": {},
   "outputs": [],
   "source": []
  }
 ],
 "metadata": {
  "kernelspec": {
   "display_name": "conda_python3",
   "language": "python",
   "name": "conda_python3"
  },
  "language_info": {
   "codemirror_mode": {
    "name": "ipython",
    "version": 3
   },
   "file_extension": ".py",
   "mimetype": "text/x-python",
   "name": "python",
   "nbconvert_exporter": "python",
   "pygments_lexer": "ipython3",
   "version": "3.6.13"
  }
 },
 "nbformat": 4,
 "nbformat_minor": 5
}
