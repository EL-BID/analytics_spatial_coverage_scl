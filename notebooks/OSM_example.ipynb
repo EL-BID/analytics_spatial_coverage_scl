{
 "cells": [
  {
   "cell_type": "markdown",
   "id": "40a391af",
   "metadata": {},
   "source": [
    "# Open Street Maps"
   ]
  },
  {
   "cell_type": "markdown",
   "id": "05a68666",
   "metadata": {},
   "source": [
    "Notebook in progress - OSM\n",
    "Information: https://janakiev.com/blog/openstreetmap-with-python-and-overpass-api/\n",
    "\n",
    "List of amenities: https://wiki.openstreetmap.org/wiki/Key:amenity"
   ]
  },
  {
   "cell_type": "markdown",
   "id": "ea92cc92",
   "metadata": {},
   "source": [
    "Overpass API. Information here:https://github.com/mvexel/overpass-api-python-wrapper"
   ]
  },
  {
   "cell_type": "code",
   "execution_count": 2,
   "id": "792c4168",
   "metadata": {},
   "outputs": [],
   "source": [
    "#!pip install OSMPythonTools\n",
    "#!pip install overpy\n",
    "import overpy\n",
    "import numpy as np\n",
    "import matplotlib.pyplot as plt\n",
    "import pandas as pd\n",
    "\n",
    "from OSMPythonTools.nominatim import Nominatim\n",
    "from OSMPythonTools.overpass import Overpass, overpassQueryBuilder\n",
    "from OSMPythonTools.data import Data, dictRangeYears, ALL\n",
    "from collections import OrderedDict\n",
    "\n",
    "overpass = Overpass()\n",
    "api = overpy.Overpass()"
   ]
  },
  {
   "cell_type": "code",
   "execution_count": 3,
   "id": "48d79a6d",
   "metadata": {},
   "outputs": [],
   "source": [
    "\n",
    "\n",
    "def fetch(year, city, typeOfRoad):\n",
    "    areaId = nominatim.query(city).areaId()\n",
    "    query = overpassQueryBuilder(area=areaId, elementType='node', selector='\"amenity\"=\"' + type_amenity + '\"', out='body')\n",
    "    return overpass.query(query, date=year, timeout=60).countElements()"
   ]
  },
  {
   "cell_type": "code",
   "execution_count": 5,
   "id": "e1db52fd",
   "metadata": {},
   "outputs": [
    {
     "name": "stdout",
     "output_type": "stream",
     "text": [
      "850\n"
     ]
    },
    {
     "data": {
      "image/png": "[encoded data removed]",
      "text/plain": [
       "<Figure size 432x288 with 1 Axes>"
      ]
     },
     "metadata": {
      "needs_background": "light"
     },
     "output_type": "display_data"
    }
   ],
   "source": [
    "query = \"\"\"\n",
    "        area[\"ISO3166-1\"=\"UY\"]->.a;\n",
    "        ( node(area.a)[amenity=school];\n",
    "          way(area.a)[amenity=school];\n",
    "          rel(area.a)[amenity=school];);\n",
    "        out center;\n",
    "        \"\"\"\n",
    "r = api.query(query)\n",
    "coords  = []\n",
    "coords += [(float(node.lon), float(node.lat))  for node in r.nodes]\n",
    "coords += [(float(way.center_lon), float(way.center_lat)) \n",
    "           for way in r.ways]\n",
    "coords += [(float(rel.center_lon), float(rel.center_lat)) \n",
    "           for rel in r.relations]\n",
    "\n",
    "print(len(coords))\n",
    "X = np.array(coords)\n",
    "plt.plot(X[:, 0], X[:, 1], 'o')\n",
    "plt.title('Hospitals in Mexico')\n",
    "plt.xlabel('Longitude')\n",
    "plt.ylabel('Latitude')\n",
    "plt.axis('equal')\n",
    "plt.show()"
   ]
  },
  {
   "cell_type": "code",
   "execution_count": 8,
   "id": "ae37978a",
   "metadata": {},
   "outputs": [
    {
     "data": {
      "text/html": [
       "<div>\n",
       "<style scoped>\n",
       "    .dataframe tbody tr th:only-of-type {\n",
       "        vertical-align: middle;\n",
       "    }\n",
       "\n",
       "    .dataframe tbody tr th {\n",
       "        vertical-align: top;\n",
       "    }\n",
       "\n",
       "    .dataframe thead th {\n",
       "        text-align: right;\n",
       "    }\n",
       "</style>\n",
       "<table border=\"1\" class=\"dataframe\">\n",
       "  <thead>\n",
       "    <tr style=\"text-align: right;\">\n",
       "      <th></th>\n",
       "      <th>0</th>\n",
       "      <th>1</th>\n",
       "    </tr>\n",
       "  </thead>\n",
       "  <tbody>\n",
       "    <tr>\n",
       "      <th>0</th>\n",
       "      <td>-105.231833</td>\n",
       "      <td>20.638359</td>\n",
       "    </tr>\n",
       "    <tr>\n",
       "      <th>1</th>\n",
       "      <td>-100.349779</td>\n",
       "      <td>25.716053</td>\n",
       "    </tr>\n",
       "    <tr>\n",
       "      <th>2</th>\n",
       "      <td>-100.349599</td>\n",
       "      <td>25.688791</td>\n",
       "    </tr>\n",
       "    <tr>\n",
       "      <th>3</th>\n",
       "      <td>-92.636879</td>\n",
       "      <td>16.732909</td>\n",
       "    </tr>\n",
       "    <tr>\n",
       "      <th>4</th>\n",
       "      <td>-110.952054</td>\n",
       "      <td>29.104814</td>\n",
       "    </tr>\n",
       "  </tbody>\n",
       "</table>\n",
       "</div>"
      ],
      "text/plain": [
       "            0          1\n",
       "0 -105.231833  20.638359\n",
       "1 -100.349779  25.716053\n",
       "2 -100.349599  25.688791\n",
       "3  -92.636879  16.732909\n",
       "4 -110.952054  29.104814"
      ]
     },
     "execution_count": 8,
     "metadata": {},
     "output_type": "execute_result"
    }
   ],
   "source": [
    "hospitals = pd.DataFrame(X)\n",
    "hospitals.head() "
   ]
  },
  {
   "cell_type": "markdown",
   "id": "6db23324",
   "metadata": {},
   "source": [
    "# Api Query"
   ]
  },
  {
   "cell_type": "markdown",
   "id": "3eefc054",
   "metadata": {},
   "source": [
    "- Standard -  use alpha 3 - ISO3166-1:alpha3\t\n",
    "- Not sure what is the use of admin_level (admin_level =1 country)"
   ]
  },
  {
   "cell_type": "markdown",
   "id": "793085a8",
   "metadata": {},
   "source": [
    "# Check overpass query builder"
   ]
  },
  {
   "cell_type": "code",
   "execution_count": 66,
   "id": "be87f40d",
   "metadata": {},
   "outputs": [
    {
     "data": {
      "text/plain": [
       "1220"
      ]
     },
     "execution_count": 66,
     "metadata": {},
     "output_type": "execute_result"
    }
   ],
   "source": [
    "area_string = 'México'\n",
    "isoalpha3='MEX'\n",
    "amenity='hospital'\n",
    "level='0'\n",
    "        \n",
    "def get_nodes(area_string, amenity):\n",
    "    nominatim = Nominatim()\n",
    "    city = nominatim.query(area_string)\n",
    "    city.areaId()\n",
    "\n",
    "    query = overpassQueryBuilder(area=city.areaId(), elementType='node',\n",
    "                                 selector='\"amenity\"=\"{0}\"'.format(amenity), out='body', \n",
    "                                 includeGeometry=True \n",
    "    )\n",
    "\n",
    "    overpass = Overpass()\n",
    "    output = overpass.query(query)\n",
    "\n",
    "    output_db = pd.DataFrame([{\"id\":x.id(), 'tags': x.tags(),\n",
    "                            'lat': x.lat(), 'lon': x.lon(),\n",
    "                            'geometry': x.geometry()} for x in output.nodes()])\n",
    "    return output_db\n",
    "\n",
    "output = get_nodes(area_string, amenity)\n",
    "output.head()\n",
    "len(output)"
   ]
  },
  {
   "cell_type": "code",
   "execution_count": 104,
   "id": "7d0bfe5c",
   "metadata": {},
   "outputs": [],
   "source": [
    "# Save example to test isochrones\n",
    "output.to_csv('../data/SPH/{isoalpha3}/{amenity}_{level}.csv'.format(isoalpha3=isoalpha3,\n",
    "                                                                     amenity=amenity,\n",
    "                                                                     level= level))"
   ]
  },
  {
   "cell_type": "markdown",
   "id": "06b2dffd",
   "metadata": {},
   "source": [
    "# Test with OSMX"
   ]
  },
  {
   "cell_type": "markdown",
   "id": "39f5828b",
   "metadata": {},
   "source": [
    "Notes - Too slow for our project"
   ]
  },
  {
   "cell_type": "code",
   "execution_count": 23,
   "id": "db20c469",
   "metadata": {},
   "outputs": [
    {
     "data": {
      "text/plain": [
       "<AxesSubplot:>"
      ]
     },
     "execution_count": 23,
     "metadata": {},
     "output_type": "execute_result"
    },
    {
     "data": {
      "image/png": "[encoded data removed]",
      "text/plain": [
       "<Figure size 432x288 with 1 Axes>"
      ]
     },
     "metadata": {
      "needs_background": "light"
     },
     "output_type": "display_data"
    }
   ],
   "source": [
    "#!pip install osmnx\n",
    "import osmnx as ox\n",
    "\n",
    "place = 'Ciudad de México'\n",
    "city = ox.geocode_to_gdf(place)\n",
    "city.plot()"
   ]
  },
  {
   "cell_type": "code",
   "execution_count": 24,
   "id": "3cb75d78",
   "metadata": {},
   "outputs": [
    {
     "data": {
      "text/html": [
       "<div>\n",
       "<style scoped>\n",
       "    .dataframe tbody tr th:only-of-type {\n",
       "        vertical-align: middle;\n",
       "    }\n",
       "\n",
       "    .dataframe tbody tr th {\n",
       "        vertical-align: top;\n",
       "    }\n",
       "\n",
       "    .dataframe thead th {\n",
       "        text-align: right;\n",
       "    }\n",
       "</style>\n",
       "<table border=\"1\" class=\"dataframe\">\n",
       "  <thead>\n",
       "    <tr style=\"text-align: right;\">\n",
       "      <th></th>\n",
       "      <th></th>\n",
       "      <th>amenity</th>\n",
       "      <th>created_by</th>\n",
       "      <th>name</th>\n",
       "      <th>geometry</th>\n",
       "      <th>addr:city</th>\n",
       "      <th>addr:country</th>\n",
       "      <th>addr:housenumber</th>\n",
       "      <th>addr:postcode</th>\n",
       "      <th>addr:street</th>\n",
       "      <th>healthcare</th>\n",
       "      <th>...</th>\n",
       "      <th>contact:email</th>\n",
       "      <th>contact:phone</th>\n",
       "      <th>ele</th>\n",
       "      <th>smoking</th>\n",
       "      <th>source</th>\n",
       "      <th>short_name</th>\n",
       "      <th>addr:unit</th>\n",
       "      <th>area</th>\n",
       "      <th>ways</th>\n",
       "      <th>type</th>\n",
       "    </tr>\n",
       "    <tr>\n",
       "      <th>element_type</th>\n",
       "      <th>osmid</th>\n",
       "      <th></th>\n",
       "      <th></th>\n",
       "      <th></th>\n",
       "      <th></th>\n",
       "      <th></th>\n",
       "      <th></th>\n",
       "      <th></th>\n",
       "      <th></th>\n",
       "      <th></th>\n",
       "      <th></th>\n",
       "      <th></th>\n",
       "      <th></th>\n",
       "      <th></th>\n",
       "      <th></th>\n",
       "      <th></th>\n",
       "      <th></th>\n",
       "      <th></th>\n",
       "      <th></th>\n",
       "      <th></th>\n",
       "      <th></th>\n",
       "      <th></th>\n",
       "    </tr>\n",
       "  </thead>\n",
       "  <tbody>\n",
       "    <tr>\n",
       "      <th rowspan=\"5\" valign=\"top\">node</th>\n",
       "      <th>319436637</th>\n",
       "      <td>hospital</td>\n",
       "      <td>Potlatch 0.10f</td>\n",
       "      <td>Hospital San Angel Inn</td>\n",
       "      <td>POINT (-99.19984 19.34035)</td>\n",
       "      <td>NaN</td>\n",
       "      <td>NaN</td>\n",
       "      <td>NaN</td>\n",
       "      <td>NaN</td>\n",
       "      <td>NaN</td>\n",
       "      <td>NaN</td>\n",
       "      <td>...</td>\n",
       "      <td>NaN</td>\n",
       "      <td>NaN</td>\n",
       "      <td>NaN</td>\n",
       "      <td>NaN</td>\n",
       "      <td>NaN</td>\n",
       "      <td>NaN</td>\n",
       "      <td>NaN</td>\n",
       "      <td>NaN</td>\n",
       "      <td>NaN</td>\n",
       "      <td>NaN</td>\n",
       "    </tr>\n",
       "    <tr>\n",
       "      <th>331600009</th>\n",
       "      <td>hospital</td>\n",
       "      <td>NaN</td>\n",
       "      <td>Santa Teresita</td>\n",
       "      <td>POINT (-99.20635 19.42230)</td>\n",
       "      <td>Cd de México</td>\n",
       "      <td>MX</td>\n",
       "      <td>26</td>\n",
       "      <td>11000</td>\n",
       "      <td>Calle Acueducto Río Hondo</td>\n",
       "      <td>NaN</td>\n",
       "      <td>...</td>\n",
       "      <td>NaN</td>\n",
       "      <td>NaN</td>\n",
       "      <td>NaN</td>\n",
       "      <td>NaN</td>\n",
       "      <td>NaN</td>\n",
       "      <td>NaN</td>\n",
       "      <td>NaN</td>\n",
       "      <td>NaN</td>\n",
       "      <td>NaN</td>\n",
       "      <td>NaN</td>\n",
       "    </tr>\n",
       "    <tr>\n",
       "      <th>474727308</th>\n",
       "      <td>hospital</td>\n",
       "      <td>NaN</td>\n",
       "      <td>IMSS</td>\n",
       "      <td>POINT (-99.16158 19.39590)</td>\n",
       "      <td>NaN</td>\n",
       "      <td>NaN</td>\n",
       "      <td>NaN</td>\n",
       "      <td>NaN</td>\n",
       "      <td>NaN</td>\n",
       "      <td>NaN</td>\n",
       "      <td>...</td>\n",
       "      <td>NaN</td>\n",
       "      <td>NaN</td>\n",
       "      <td>NaN</td>\n",
       "      <td>NaN</td>\n",
       "      <td>NaN</td>\n",
       "      <td>NaN</td>\n",
       "      <td>NaN</td>\n",
       "      <td>NaN</td>\n",
       "      <td>NaN</td>\n",
       "      <td>NaN</td>\n",
       "    </tr>\n",
       "    <tr>\n",
       "      <th>648638165</th>\n",
       "      <td>hospital</td>\n",
       "      <td>NaN</td>\n",
       "      <td>Hospital San Ángel Inn Chapultepec</td>\n",
       "      <td>POINT (-99.17298 19.42171)</td>\n",
       "      <td>NaN</td>\n",
       "      <td>NaN</td>\n",
       "      <td>NaN</td>\n",
       "      <td>NaN</td>\n",
       "      <td>NaN</td>\n",
       "      <td>hospital</td>\n",
       "      <td>...</td>\n",
       "      <td>NaN</td>\n",
       "      <td>NaN</td>\n",
       "      <td>NaN</td>\n",
       "      <td>NaN</td>\n",
       "      <td>NaN</td>\n",
       "      <td>NaN</td>\n",
       "      <td>NaN</td>\n",
       "      <td>NaN</td>\n",
       "      <td>NaN</td>\n",
       "      <td>NaN</td>\n",
       "    </tr>\n",
       "    <tr>\n",
       "      <th>700231579</th>\n",
       "      <td>hospital</td>\n",
       "      <td>NaN</td>\n",
       "      <td>Clínica 23 IMSS</td>\n",
       "      <td>POINT (-99.09655 19.47774)</td>\n",
       "      <td>NaN</td>\n",
       "      <td>NaN</td>\n",
       "      <td>NaN</td>\n",
       "      <td>NaN</td>\n",
       "      <td>NaN</td>\n",
       "      <td>hospital</td>\n",
       "      <td>...</td>\n",
       "      <td>NaN</td>\n",
       "      <td>NaN</td>\n",
       "      <td>NaN</td>\n",
       "      <td>NaN</td>\n",
       "      <td>NaN</td>\n",
       "      <td>NaN</td>\n",
       "      <td>NaN</td>\n",
       "      <td>NaN</td>\n",
       "      <td>NaN</td>\n",
       "      <td>NaN</td>\n",
       "    </tr>\n",
       "  </tbody>\n",
       "</table>\n",
       "<p>5 rows × 53 columns</p>\n",
       "</div>"
      ],
      "text/plain": [
       "                         amenity      created_by  \\\n",
       "element_type osmid                                 \n",
       "node         319436637  hospital  Potlatch 0.10f   \n",
       "             331600009  hospital             NaN   \n",
       "             474727308  hospital             NaN   \n",
       "             648638165  hospital             NaN   \n",
       "             700231579  hospital             NaN   \n",
       "\n",
       "                                                      name  \\\n",
       "element_type osmid                                           \n",
       "node         319436637              Hospital San Angel Inn   \n",
       "             331600009                      Santa Teresita   \n",
       "             474727308                                IMSS   \n",
       "             648638165  Hospital San Ángel Inn Chapultepec   \n",
       "             700231579                     Clínica 23 IMSS   \n",
       "\n",
       "                                          geometry     addr:city addr:country  \\\n",
       "element_type osmid                                                              \n",
       "node         319436637  POINT (-99.19984 19.34035)           NaN          NaN   \n",
       "             331600009  POINT (-99.20635 19.42230)  Cd de México           MX   \n",
       "             474727308  POINT (-99.16158 19.39590)           NaN          NaN   \n",
       "             648638165  POINT (-99.17298 19.42171)           NaN          NaN   \n",
       "             700231579  POINT (-99.09655 19.47774)           NaN          NaN   \n",
       "\n",
       "                       addr:housenumber addr:postcode  \\\n",
       "element_type osmid                                      \n",
       "node         319436637              NaN           NaN   \n",
       "             331600009               26         11000   \n",
       "             474727308              NaN           NaN   \n",
       "             648638165              NaN           NaN   \n",
       "             700231579              NaN           NaN   \n",
       "\n",
       "                                      addr:street healthcare  ...  \\\n",
       "element_type osmid                                            ...   \n",
       "node         319436637                        NaN        NaN  ...   \n",
       "             331600009  Calle Acueducto Río Hondo        NaN  ...   \n",
       "             474727308                        NaN        NaN  ...   \n",
       "             648638165                        NaN   hospital  ...   \n",
       "             700231579                        NaN   hospital  ...   \n",
       "\n",
       "                       contact:email contact:phone  ele smoking source  \\\n",
       "element_type osmid                                                       \n",
       "node         319436637           NaN           NaN  NaN     NaN    NaN   \n",
       "             331600009           NaN           NaN  NaN     NaN    NaN   \n",
       "             474727308           NaN           NaN  NaN     NaN    NaN   \n",
       "             648638165           NaN           NaN  NaN     NaN    NaN   \n",
       "             700231579           NaN           NaN  NaN     NaN    NaN   \n",
       "\n",
       "                       short_name addr:unit area ways type  \n",
       "element_type osmid                                          \n",
       "node         319436637        NaN       NaN  NaN  NaN  NaN  \n",
       "             331600009        NaN       NaN  NaN  NaN  NaN  \n",
       "             474727308        NaN       NaN  NaN  NaN  NaN  \n",
       "             648638165        NaN       NaN  NaN  NaN  NaN  \n",
       "             700231579        NaN       NaN  NaN  NaN  NaN  \n",
       "\n",
       "[5 rows x 53 columns]"
      ]
     },
     "execution_count": 24,
     "metadata": {},
     "output_type": "execute_result"
    }
   ],
   "source": [
    "tags = {'amenity' : ['hospital']}\n",
    "amenities = ox.geometries_from_place(place, tags=tags)\n",
    "amenities.head()"
   ]
  },
  {
   "cell_type": "code",
   "execution_count": 25,
   "id": "a31d25e4",
   "metadata": {},
   "outputs": [
    {
     "data": {
      "text/plain": [
       "252"
      ]
     },
     "execution_count": 25,
     "metadata": {},
     "output_type": "execute_result"
    }
   ],
   "source": [
    "len(amenities)"
   ]
  },
  {
   "cell_type": "markdown",
   "id": "fd05dd8b",
   "metadata": {},
   "source": [
    "Changing admin_level = 4 gives us states, 6 municipal border, 8 city/town limit. (here =4 and querying CDMX) (here you can find admin_level by country https://wiki.openstreetmap.org/wiki/Tag:boundary%3Dadministrative#admin_level.3D.2A_Country_specific_values)"
   ]
  },
  {
   "cell_type": "code",
   "execution_count": 14,
   "id": "5c7f6c92",
   "metadata": {},
   "outputs": [],
   "source": [
    "import requests\n",
    "import json\n",
    "\n",
    "overpass_url = \"http://overpass-api.de/api/interpreter\"\n",
    "overpass_query = \"\"\"\n",
    "[out:json];\n",
    "area[\"ISO3166-2\"=\"MX-CMX\"][admin_level=4];\n",
    "(node[\"amenity\"=\"hospital\"](area);\n",
    " way[\"amenity\"=\"hospital\"](area);\n",
    " rel[\"amenity\"=\"hospital\"](area);\n",
    ");\n",
    "out center;\n",
    "\"\"\"\n",
    "response = requests.get(overpass_url, \n",
    "                        params={'data': overpass_query})\n",
    "data = response.json()"
   ]
  },
  {
   "cell_type": "code",
   "execution_count": 17,
   "id": "dfcdbbe2",
   "metadata": {},
   "outputs": [
    {
     "data": {
      "image/png": "[encoded data removed]",
      "text/plain": [
       "<Figure size 432x288 with 1 Axes>"
      ]
     },
     "metadata": {
      "needs_background": "light"
     },
     "output_type": "display_data"
    }
   ],
   "source": [
    "import numpy as np\n",
    "import matplotlib.pyplot as plt\n",
    "\n",
    "# Collect coords into list\n",
    "coords = []\n",
    "for element in data['elements']:\n",
    "  if element['type'] == 'node':\n",
    "    lon = element['lon']\n",
    "    lat = element['lat']\n",
    "    coords.append((lon, lat))\n",
    "  elif 'center' in element:\n",
    "    lon = element['center']['lon']\n",
    "    lat = element['center']['lat']\n",
    "    coords.append((lon, lat))\n",
    "\n",
    "# Convert coordinates into numpy array\n",
    "X = np.array(coords)\n",
    "\n",
    "plt.plot(X[:, 0], X[:, 1], 'o')\n",
    "plt.title('Hospitals in CDMX')\n",
    "plt.xlabel('Longitude')\n",
    "plt.ylabel('Latitude')\n",
    "plt.axis('equal')\n",
    "plt.show()"
   ]
  },
  {
   "cell_type": "code",
   "execution_count": 16,
   "id": "7a03fe4e",
   "metadata": {},
   "outputs": [
    {
     "name": "stdout",
     "output_type": "stream",
     "text": [
      "124\n"
     ]
    }
   ],
   "source": [
    "print(len(coords))"
   ]
  },
  {
   "cell_type": "code",
   "execution_count": 30,
   "id": "686d61df",
   "metadata": {},
   "outputs": [
    {
     "data": {
      "text/html": [
       "<div>\n",
       "<style scoped>\n",
       "    .dataframe tbody tr th:only-of-type {\n",
       "        vertical-align: middle;\n",
       "    }\n",
       "\n",
       "    .dataframe tbody tr th {\n",
       "        vertical-align: top;\n",
       "    }\n",
       "\n",
       "    .dataframe thead th {\n",
       "        text-align: right;\n",
       "    }\n",
       "</style>\n",
       "<table border=\"1\" class=\"dataframe\">\n",
       "  <thead>\n",
       "    <tr style=\"text-align: right;\">\n",
       "      <th></th>\n",
       "      <th>id</th>\n",
       "      <th>lon</th>\n",
       "      <th>lat</th>\n",
       "      <th>amenity</th>\n",
       "      <th>created_by</th>\n",
       "      <th>name</th>\n",
       "      <th>addr:city</th>\n",
       "      <th>addr:country</th>\n",
       "      <th>addr:housenumber</th>\n",
       "      <th>addr:postcode</th>\n",
       "      <th>...</th>\n",
       "      <th>alt_name</th>\n",
       "      <th>wheelchair</th>\n",
       "      <th>note</th>\n",
       "      <th>designation</th>\n",
       "      <th>opening_hours</th>\n",
       "      <th>name:es</th>\n",
       "      <th>name:zh</th>\n",
       "      <th>email</th>\n",
       "      <th>operator:type</th>\n",
       "      <th>description</th>\n",
       "    </tr>\n",
       "  </thead>\n",
       "  <tbody>\n",
       "    <tr>\n",
       "      <th>0</th>\n",
       "      <td>319436637</td>\n",
       "      <td>-99.1998410</td>\n",
       "      <td>19.3403526</td>\n",
       "      <td>hospital</td>\n",
       "      <td>Potlatch 0.10f</td>\n",
       "      <td>Hospital San Angel Inn</td>\n",
       "      <td>NaN</td>\n",
       "      <td>NaN</td>\n",
       "      <td>NaN</td>\n",
       "      <td>NaN</td>\n",
       "      <td>...</td>\n",
       "      <td>NaN</td>\n",
       "      <td>NaN</td>\n",
       "      <td>NaN</td>\n",
       "      <td>NaN</td>\n",
       "      <td>NaN</td>\n",
       "      <td>NaN</td>\n",
       "      <td>NaN</td>\n",
       "      <td>NaN</td>\n",
       "      <td>NaN</td>\n",
       "      <td>NaN</td>\n",
       "    </tr>\n",
       "    <tr>\n",
       "      <th>1</th>\n",
       "      <td>331600009</td>\n",
       "      <td>-99.2063529</td>\n",
       "      <td>19.4223048</td>\n",
       "      <td>hospital</td>\n",
       "      <td>NaN</td>\n",
       "      <td>Santa Teresita</td>\n",
       "      <td>Cd de México</td>\n",
       "      <td>MX</td>\n",
       "      <td>26</td>\n",
       "      <td>11000</td>\n",
       "      <td>...</td>\n",
       "      <td>NaN</td>\n",
       "      <td>NaN</td>\n",
       "      <td>NaN</td>\n",
       "      <td>NaN</td>\n",
       "      <td>NaN</td>\n",
       "      <td>NaN</td>\n",
       "      <td>NaN</td>\n",
       "      <td>NaN</td>\n",
       "      <td>NaN</td>\n",
       "      <td>NaN</td>\n",
       "    </tr>\n",
       "    <tr>\n",
       "      <th>2</th>\n",
       "      <td>474727308</td>\n",
       "      <td>-99.1615782</td>\n",
       "      <td>19.3959048</td>\n",
       "      <td>hospital</td>\n",
       "      <td>NaN</td>\n",
       "      <td>IMSS</td>\n",
       "      <td>NaN</td>\n",
       "      <td>NaN</td>\n",
       "      <td>NaN</td>\n",
       "      <td>NaN</td>\n",
       "      <td>...</td>\n",
       "      <td>NaN</td>\n",
       "      <td>NaN</td>\n",
       "      <td>NaN</td>\n",
       "      <td>NaN</td>\n",
       "      <td>NaN</td>\n",
       "      <td>NaN</td>\n",
       "      <td>NaN</td>\n",
       "      <td>NaN</td>\n",
       "      <td>NaN</td>\n",
       "      <td>NaN</td>\n",
       "    </tr>\n",
       "    <tr>\n",
       "      <th>3</th>\n",
       "      <td>648638165</td>\n",
       "      <td>-99.1729820</td>\n",
       "      <td>19.4217120</td>\n",
       "      <td>hospital</td>\n",
       "      <td>NaN</td>\n",
       "      <td>Hospital San Ángel Inn Chapultepec</td>\n",
       "      <td>NaN</td>\n",
       "      <td>NaN</td>\n",
       "      <td>NaN</td>\n",
       "      <td>NaN</td>\n",
       "      <td>...</td>\n",
       "      <td>NaN</td>\n",
       "      <td>NaN</td>\n",
       "      <td>NaN</td>\n",
       "      <td>NaN</td>\n",
       "      <td>NaN</td>\n",
       "      <td>NaN</td>\n",
       "      <td>NaN</td>\n",
       "      <td>NaN</td>\n",
       "      <td>NaN</td>\n",
       "      <td>NaN</td>\n",
       "    </tr>\n",
       "    <tr>\n",
       "      <th>4</th>\n",
       "      <td>700231579</td>\n",
       "      <td>-99.0965541</td>\n",
       "      <td>19.4777416</td>\n",
       "      <td>hospital</td>\n",
       "      <td>NaN</td>\n",
       "      <td>Clínica 23 IMSS</td>\n",
       "      <td>NaN</td>\n",
       "      <td>NaN</td>\n",
       "      <td>NaN</td>\n",
       "      <td>NaN</td>\n",
       "      <td>...</td>\n",
       "      <td>NaN</td>\n",
       "      <td>NaN</td>\n",
       "      <td>NaN</td>\n",
       "      <td>NaN</td>\n",
       "      <td>NaN</td>\n",
       "      <td>NaN</td>\n",
       "      <td>NaN</td>\n",
       "      <td>NaN</td>\n",
       "      <td>NaN</td>\n",
       "      <td>NaN</td>\n",
       "    </tr>\n",
       "  </tbody>\n",
       "</table>\n",
       "<p>5 rows × 33 columns</p>\n",
       "</div>"
      ],
      "text/plain": [
       "          id          lon         lat   amenity      created_by  \\\n",
       "0  319436637  -99.1998410  19.3403526  hospital  Potlatch 0.10f   \n",
       "1  331600009  -99.2063529  19.4223048  hospital             NaN   \n",
       "2  474727308  -99.1615782  19.3959048  hospital             NaN   \n",
       "3  648638165  -99.1729820  19.4217120  hospital             NaN   \n",
       "4  700231579  -99.0965541  19.4777416  hospital             NaN   \n",
       "\n",
       "                                 name     addr:city addr:country  \\\n",
       "0              Hospital San Angel Inn           NaN          NaN   \n",
       "1                      Santa Teresita  Cd de México           MX   \n",
       "2                                IMSS           NaN          NaN   \n",
       "3  Hospital San Ángel Inn Chapultepec           NaN          NaN   \n",
       "4                     Clínica 23 IMSS           NaN          NaN   \n",
       "\n",
       "  addr:housenumber addr:postcode  ... alt_name wheelchair note designation  \\\n",
       "0              NaN           NaN  ...      NaN        NaN  NaN         NaN   \n",
       "1               26         11000  ...      NaN        NaN  NaN         NaN   \n",
       "2              NaN           NaN  ...      NaN        NaN  NaN         NaN   \n",
       "3              NaN           NaN  ...      NaN        NaN  NaN         NaN   \n",
       "4              NaN           NaN  ...      NaN        NaN  NaN         NaN   \n",
       "\n",
       "  opening_hours name:es name:zh email operator:type description  \n",
       "0           NaN     NaN     NaN   NaN           NaN         NaN  \n",
       "1           NaN     NaN     NaN   NaN           NaN         NaN  \n",
       "2           NaN     NaN     NaN   NaN           NaN         NaN  \n",
       "3           NaN     NaN     NaN   NaN           NaN         NaN  \n",
       "4           NaN     NaN     NaN   NaN           NaN         NaN  \n",
       "\n",
       "[5 rows x 33 columns]"
      ]
     },
     "execution_count": 30,
     "metadata": {},
     "output_type": "execute_result"
    }
   ],
   "source": [
    "r = api.query(\"\"\"\n",
    "    area[\"ISO3166-2\"=\"MX-CMX\"][admin_level=4];\n",
    "    (node[\"amenity\"=\"hospital\"](area););\n",
    "    out center;\n",
    "\"\"\")\n",
    "coords = pd.DataFrame([{'id': node.id, 'lon': node.lon, 'lat': node.lat} \n",
    "                       for node in r.nodes]).reset_index()\n",
    "metadata  = pd.DataFrame([node.tags\n",
    "                          for node in r.nodes]).reset_index()\n",
    "output = coords.merge(metadata, on='index').drop('index', axis=1)\n",
    "output.head()"
   ]
  },
  {
   "cell_type": "code",
   "execution_count": 45,
   "id": "02e9a23f",
   "metadata": {},
   "outputs": [],
   "source": [
    "def get_country_amenity(isoalpha3, amenity):   \n",
    "    \"\"\"\n",
    "    \"\"\"\n",
    "    query = f'''\n",
    "            area[\"ISO3166-1:alpha3\"=\"{isoalpha3}\"]->.a;\n",
    "            ( node(area.a)[amenity={amenity}];\n",
    "              way(area.a)[amenity={amenity}];\n",
    "              rel(area.a)[amenity={amenity}];);\n",
    "            out center;\n",
    "            '''\n",
    "    r = api.query(query)\n",
    "    \n",
    "    coords_node = pd.DataFrame([{'id': node.id, \n",
    "                                 'lon': node.lon, 'lat': node.lat} \n",
    "                           for node in r.nodes]).reset_index()\n",
    "    coords_way = pd.DataFrame([{'id': way.id, 'lon': way.center_lon, 'lat': way.center_lat}\n",
    "                              for way in r.ways]).reset_index()\n",
    "    coords_relation = pd.DataFrame([{'id': relation.id, 'lon': relation.center_lon, 'lat': relation.center_lat}\n",
    "                              for relation in r.relations]).reset_index()\n",
    "\n",
    "    metadata_node =  pd.DataFrame([node.tags\n",
    "                              for node in r.nodes]).reset_index()\n",
    "    metadata_way = pd.DataFrame([way.tags\n",
    "                              for way in r.ways]).reset_index()\n",
    "    metadata_relation = pd.DataFrame([way.tags\n",
    "                              for way in r.relations]).reset_index()\n",
    "\n",
    "    output_node = coords_node.merge(metadata_node, on='index').drop('index', axis=1)\n",
    "    output_way = coords_way.merge(metadata_way, on='index').drop('index', axis=1)\n",
    "    output_relation = coords_relation.merge(metadata_relation, on='index').drop('index', axis=1)\n",
    "    output_tot = pd.concat([output_node, output_way, output_relation])\n",
    "    \n",
    "    return output_tot"
   ]
  },
  {
   "cell_type": "code",
   "execution_count": 46,
   "id": "c4ddb21a",
   "metadata": {},
   "outputs": [],
   "source": [
    "amenity = 'hospital'\n",
    "isoalpha3 = 'MEX'\n",
    "output_test = get_country_amenity(isoalpha3, amenity)"
   ]
  },
  {
   "cell_type": "code",
   "execution_count": 44,
   "id": "84a5c2a0",
   "metadata": {},
   "outputs": [
    {
     "data": {
      "text/plain": [
       "2764"
      ]
     },
     "execution_count": 44,
     "metadata": {},
     "output_type": "execute_result"
    }
   ],
   "source": [
    "len(output_test)"
   ]
  },
  {
   "cell_type": "code",
   "execution_count": 50,
   "id": "75430f5b",
   "metadata": {},
   "outputs": [],
   "source": [
    "amenities = ['clinic', 'hospital']\n",
    "isoalpha3 = 'MEX'\n",
    "output_test2 = get_country_amenities(isoalpha3, amenities)"
   ]
  },
  {
   "cell_type": "code",
   "execution_count": 51,
   "id": "8a23aa62",
   "metadata": {},
   "outputs": [
    {
     "data": {
      "text/plain": [
       "4231"
      ]
     },
     "execution_count": 51,
     "metadata": {},
     "output_type": "execute_result"
    }
   ],
   "source": [
    "len(output_test2)"
   ]
  },
  {
   "cell_type": "code",
   "execution_count": 40,
   "id": "8c34a202",
   "metadata": {},
   "outputs": [
    {
     "data": {
      "text/plain": [
       "4231"
      ]
     },
     "execution_count": 40,
     "metadata": {},
     "output_type": "execute_result"
    }
   ],
   "source": [
    "len(output)"
   ]
  }
 ],
 "metadata": {
  "kernelspec": {
   "display_name": "conda_python3",
   "language": "python",
   "name": "conda_python3"
  },
  "language_info": {
   "codemirror_mode": {
    "name": "ipython",
    "version": 3
   },
   "file_extension": ".py",
   "mimetype": "text/x-python",
   "name": "python",
   "nbconvert_exporter": "python",
   "pygments_lexer": "ipython3",
   "version": "3.6.13"
  }
 },
 "nbformat": 4,
 "nbformat_minor": 5
}
