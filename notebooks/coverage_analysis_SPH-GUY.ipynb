{
 "cells": [
  {
   "cell_type": "code",
   "execution_count": 14,
   "id": "a232cb8a",
   "metadata": {},
   "outputs": [],
   "source": [
    "#!pip install h3\n",
    "#!pip install branca\n",
    "#!pip install geojson\n",
    "#!pip install geopandas\n",
    "#!pip install backoff\n",
    "#!pip install overpy\n",
    "#!pip install folium\n",
    "#!pip install OSMPythonTools\n",
    "#!pip install wordcloud\n",
    "import json\n",
    "import branca.colormap as cm\n",
    "from geojson import Feature, Point, FeatureCollection\n",
    "from geopandas.tools import sjoin\n",
    "from h3 import geo_to_h3, h3_to_geo_boundary\n",
    "from shapely.geometry import Polygon\n",
    "import seaborn as sns\n",
    "from utils_spatial import *"
   ]
  },
  {
   "cell_type": "markdown",
   "id": "df2daff0",
   "metadata": {},
   "source": [
    "# Description\n",
    "\n",
    "The purpose of this use case is to show a replicable social coverage analysis.\n",
    "\n",
    "# Instructions\n",
    "The next steps were followed:\n",
    "\n",
    "- Define an amenity of interest and a country of interest.\n",
    "- OpenStreetMaps is used (if official information is not available) as a source to collect each amenity and its georeference.\n",
    "- Define a transport profile ('driving', 'walking') and a time profile (15 m, 30 m, etc).\n",
    "- Use the mapbox API (https://datapartnership.org/) to calculate isochrons for each georeference - profile and desired time. \n",
    "- Define a population layer of interest using the Facebook project - High resolution population density map (women_of_reproductive_age_15_49, etc).\n",
    "- Generate hexagons to simplify analysis.\n",
    "- Perform spatial join to identify the population without access to the service with the defined profile."
   ]
  },
  {
   "cell_type": "markdown",
   "id": "7df6ba92",
   "metadata": {},
   "source": [
    "## Parameters definition"
   ]
  },
  {
   "cell_type": "code",
   "execution_count": 15,
   "id": "a5a30854",
   "metadata": {},
   "outputs": [],
   "source": [
    "# Country and Amenity\n",
    "###########################\n",
    "amenities = ['hospital']\n",
    "path = '_'.join(amenities)\n",
    "if len(amenities)==1 :\n",
    "    amenity =amenities\n",
    "isoalpha3 = 'GUY' # GTM\n",
    "\n",
    "# Transportation profile\n",
    "###########################\n",
    "profile='driving'\n",
    "time_profiles=[45]\n",
    "minute = time_profiles[0]\n",
    "\n",
    "# Population of interest\n",
    "###########################\n",
    "population_='women_of_reproductive_age_15_49'"
   ]
  },
  {
   "cell_type": "markdown",
   "id": "50b5321f",
   "metadata": {},
   "source": [
    "## Get amenity from OSM"
   ]
  },
  {
   "cell_type": "code",
   "execution_count": 16,
   "id": "e53146c7",
   "metadata": {},
   "outputs": [],
   "source": [
    "countries = pd.read_excel(scldatalake + 'Manuals and Standards/IADB country and area codes for statistical use/IADB_country_codes_admin_0.xlsx', engine='openpyxl')\n",
    "amenities_iso = pd.read_csv(scldatalake + f'Geospatial infrastructure/Healthcare Facilities/healthcare_facilities.csv', low_memory=False)\n",
    "amenities_iso = amenities_iso[amenities_iso.isoalpha3 == isoalpha3].reset_index(drop=True)"
   ]
  },
  {
   "cell_type": "code",
   "execution_count": 17,
   "id": "3c6b7b43",
   "metadata": {},
   "outputs": [
    {
     "name": "stdout",
     "output_type": "stream",
     "text": [
      "358\n"
     ]
    },
    {
     "data": {
      "image/png": "[encoded data removed]",
      "text/plain": [
       "<Figure size 432x288 with 1 Axes>"
      ]
     },
     "metadata": {
      "needs_background": "light"
     },
     "output_type": "display_data"
    }
   ],
   "source": [
    "plot_lat_lon(amenities_iso)\n",
    "#amenities_iso.to_csv('amenities.csv')\n"
   ]
  },
  {
   "cell_type": "markdown",
   "id": "7d4a274f",
   "metadata": {},
   "source": [
    "## Get isochrones"
   ]
  },
  {
   "cell_type": "code",
   "execution_count": null,
   "id": "bb80124c",
   "metadata": {},
   "outputs": [],
   "source": [
    "%%capture\n",
    "project_name = f'{isoalpha3}_{amenity}' \n",
    "isochrones_data = create_isochrone_analysis(data = amenities_iso, project_name=project_name,\n",
    "                                            output_folder='../data', token=access_token, \n",
    "                                            profile=profile, time_profiles=time_profiles)"
   ]
  },
  {
   "cell_type": "code",
   "execution_count": null,
   "id": "af58dd9f",
   "metadata": {},
   "outputs": [],
   "source": [
    "plot_isochone_points(facility_data=amenities_iso, isochrones_data=isochrones_data, zoom_start=10, geom='FeatureCollection')"
   ]
  },
  {
   "cell_type": "markdown",
   "id": "71d58b11",
   "metadata": {},
   "source": [
    "## Get Population layers"
   ]
  },
  {
   "cell_type": "code",
   "execution_count": null,
   "id": "04196835",
   "metadata": {},
   "outputs": [],
   "source": [
    "population = pd.read_csv(scldatalake + \n",
    "                         f'Development Data Partnership/Facebook - High resolution population density map/public-fb-data/csv/{isoalpha3}/{isoalpha3}_{population_}.csv.gz',\n",
    "                        sep='\\t').rename(columns={'latitude':'lat', 'longitude':'lon'})\n",
    "population[\"hex_id\"] = population.apply(lambda x: geo_to_h3(x[\"lat\"], x[\"lon\"], 8), axis=1)\n",
    "population_8 = population.groupby('hex_id').agg({'population':sum}).reset_index()\n",
    "population_8['hex'] = population_8['hex_id'].apply(lambda x: h3_to_geo_boundary(x, geo_json=True))\n",
    "population_8['hex_poly'] = population_8['hex'].apply(lambda x: Polygon(x))\n",
    "gs = gpd.GeoSeries(population_8['hex_poly'])\n",
    "gdf = gpd.GeoDataFrame(population_8, geometry=gs, crs=\"EPSG:4326\")\n",
    "\n",
    "gdf.plot( figsize=(9, 9), column='population', cmap='inferno');"
   ]
  },
  {
   "cell_type": "code",
   "execution_count": null,
   "id": "e7590e9a",
   "metadata": {},
   "outputs": [],
   "source": [
    "population.population.sum()"
   ]
  },
  {
   "cell_type": "code",
   "execution_count": null,
   "id": "082839fe",
   "metadata": {},
   "outputs": [],
   "source": [
    "gdf.population.sum()"
   ]
  },
  {
   "cell_type": "code",
   "execution_count": null,
   "id": "5073707c",
   "metadata": {},
   "outputs": [],
   "source": [
    "#isochrones_data"
   ]
  },
  {
   "cell_type": "code",
   "execution_count": null,
   "id": "b01b63c8",
   "metadata": {},
   "outputs": [],
   "source": [
    "#%%capture\n",
    "isochrone = isochrones_data[isochrones_data.minutes == minute].reset_index()\n",
    "#geom = gpd.GeoDataFrame.from_features(isochrone['geometry'][0])\n",
    "geom = gpd.GeoDataFrame(isochrone, geometry='multipolygon')\n",
    "#isochrone\n",
    "\n",
    "geom[f'geom_{minute}'] = True\n",
    "#gdf_match = sjoin(gdf, geom[[f'geom_{minute}', 'amenity', 'geometry']], how='left')"
   ]
  },
  {
   "cell_type": "code",
   "execution_count": null,
   "id": "b4c7fc18",
   "metadata": {},
   "outputs": [],
   "source": [
    "#geom.plot()\n",
    "geom[f'geom_{minute}'] = True\n",
    "gdf_match = sjoin(gdf, geom[[f'geom_{minute}', 'amenity', 'multipolygon']], how='left')\n",
    "gdf_match.population.sum()"
   ]
  },
  {
   "cell_type": "code",
   "execution_count": null,
   "id": "3ad8e4ab",
   "metadata": {},
   "outputs": [],
   "source": [
    "#isochrone\n",
    "gdf_match.loc[(gdf_match[f'geom_{minute}'].isna()), f'geom_{minute}'] = False\n",
    "gdf_match.loc[(gdf_match.amenity.isna()), 'amenity'] = 'False'\n",
    "del gdf_match['geometry']\n",
    "gdf_match = gdf_match.rename(columns={'hex':'geometry'})\n",
    "get_geom = gdf_match[gdf_match[f'geom_{minute}']==False]\n",
    "get_geom['value'] = np.log(get_geom.population)\n",
    "get_geom.loc[(get_geom['value']<0),'value']=0\n",
    "\n",
    "hex_name = 'hex_id'\n",
    "column_name = 'value'\n",
    "list_features = []\n",
    "for i,row in get_geom.iterrows():\n",
    "    feature = Feature(geometry = row[\"hex_poly\"] , id=row[\"hex_id\"], properties = {\"value\" : row[column_name]})\n",
    "    list_features.append(feature)\n",
    "    \n",
    "feat_collection = FeatureCollection(list_features)\n",
    "geojson_result = json.dumps(feat_collection)\n"
   ]
  },
  {
   "cell_type": "markdown",
   "id": "ba305661",
   "metadata": {},
   "source": [
    "En un escenario de 30 minutos ### personas no tienen acceso a un servicio de ###"
   ]
  },
  {
   "cell_type": "markdown",
   "id": "1b440c46",
   "metadata": {},
   "source": [
    "## Final Map"
   ]
  },
  {
   "cell_type": "code",
   "execution_count": 3,
   "id": "fffe7789",
   "metadata": {},
   "outputs": [
    {
     "ename": "NameError",
     "evalue": "name 'get_geom' is not defined",
     "output_type": "error",
     "traceback": [
      "\u001b[0;31m---------------------------------------------------------------------------\u001b[0m",
      "\u001b[0;31mNameError\u001b[0m                                 Traceback (most recent call last)",
      "\u001b[0;32m<ipython-input-3-b4db52ae94ef>\u001b[0m in \u001b[0;36m<module>\u001b[0;34m\u001b[0m\n\u001b[0;32m----> 1\u001b[0;31m \u001b[0mmin_value\u001b[0m \u001b[0;34m=\u001b[0m \u001b[0mmin\u001b[0m\u001b[0;34m(\u001b[0m\u001b[0mget_geom\u001b[0m\u001b[0;34m.\u001b[0m\u001b[0mvalue\u001b[0m\u001b[0;34m)\u001b[0m\u001b[0;34m\u001b[0m\u001b[0;34m\u001b[0m\u001b[0m\n\u001b[0m\u001b[1;32m      2\u001b[0m \u001b[0mmax_value\u001b[0m \u001b[0;34m=\u001b[0m \u001b[0mmax\u001b[0m\u001b[0;34m(\u001b[0m\u001b[0mget_geom\u001b[0m\u001b[0;34m.\u001b[0m\u001b[0mvalue\u001b[0m\u001b[0;34m)\u001b[0m\u001b[0;34m\u001b[0m\u001b[0;34m\u001b[0m\u001b[0m\n\u001b[1;32m      3\u001b[0m \u001b[0;34m\u001b[0m\u001b[0m\n\u001b[1;32m      4\u001b[0m \u001b[0;34m\u001b[0m\u001b[0m\n\u001b[1;32m      5\u001b[0m \u001b[0mcustom_cm\u001b[0m \u001b[0;34m=\u001b[0m \u001b[0mcm\u001b[0m\u001b[0;34m.\u001b[0m\u001b[0mLinearColormap\u001b[0m\u001b[0;34m(\u001b[0m\u001b[0;34m[\u001b[0m\u001b[0;34m'yellow'\u001b[0m\u001b[0;34m,\u001b[0m \u001b[0;34m'red'\u001b[0m\u001b[0;34m]\u001b[0m\u001b[0;34m,\u001b[0m \u001b[0mvmin\u001b[0m\u001b[0;34m=\u001b[0m\u001b[0mmin_value\u001b[0m\u001b[0;34m,\u001b[0m \u001b[0mvmax\u001b[0m\u001b[0;34m=\u001b[0m\u001b[0mmax_value\u001b[0m\u001b[0;34m)\u001b[0m\u001b[0;34m\u001b[0m\u001b[0;34m\u001b[0m\u001b[0m\n",
      "\u001b[0;31mNameError\u001b[0m: name 'get_geom' is not defined"
     ]
    }
   ],
   "source": [
    "min_value = min(get_geom.value)\n",
    "max_value = max(get_geom.value)\n",
    "\n",
    "\n",
    "custom_cm = cm.LinearColormap(['yellow', 'red'], vmin=min_value, vmax=max_value)\n",
    "custom_cm = cm.LinearColormap(['yellow', 'red'], vmin=min_value, vmax=max_value)\n",
    "\n",
    "lat_mean = np.mean(population['lat'])\n",
    "lon_mean = np.mean(population['lon'])\n",
    "\n",
    "m = folium.Map(location=[lat_mean,lon_mean], zoom_start=10, tiles='CartoDB positron')\n",
    "\n",
    "folium.GeoJson(geojson_result,\n",
    "        style_function=lambda feature: {\n",
    "            'fillColor': custom_cm(feature['properties']['value']),\n",
    "            'color': 'black',\n",
    "            'weight': .001, \n",
    "            'weight': 1,\n",
    "            'fillOpacity': .7 \n",
    "        }, \n",
    "        name ='temp').add_to(m)\n",
    "\n",
    "\n",
    "\n",
    "color = ['green']\n",
    "for i, x in isochrone.iterrows():\n",
    "    fillColor = color[i]\n",
    "    folium.GeoJson(data=x['FeatureCollection'], name=x['profile'],\n",
    "                   style_function=lambda x,\n",
    "                   fillColor=fillColor, color=fillColor: {\n",
    "                       \"fillColor\": fillColor,\n",
    "                        'weight': 2,\n",
    "                        'opacity': 1,\n",
    "                        'color': 'black',\n",
    "                        'weight': .01, \n",
    "                        'fillOpacity': 0.7\n",
    "                   }).add_to(m)\n",
    "m"
   ]
  },
  {
   "cell_type": "code",
   "execution_count": null,
   "id": "a700b010",
   "metadata": {},
   "outputs": [],
   "source": []
  },
  {
   "cell_type": "code",
   "execution_count": null,
   "id": "c2d4501f",
   "metadata": {},
   "outputs": [],
   "source": [
    "gdf_match.loc[gdf_match.amenity=='hospital', 'amenity'] = 'covered'\n",
    "gdf_match.loc[gdf_match.amenity=='False', 'amenity'] = 'uncovered'\n",
    "pd.options.display.float_format = '{:.2f}'.format\n",
    "out = gdf_match.groupby(['amenity'])['population'].sum().reset_index()\n",
    "out['pct'] = out.population/out.population.sum()*100\n",
    "out"
   ]
  },
  {
   "cell_type": "code",
   "execution_count": null,
   "id": "41c84c20",
   "metadata": {},
   "outputs": [],
   "source": [
    "level='2'\n",
    "#world = gpd.read_file(scldatalake +\n",
    "#                      'Geospatial Basemaps/Cartographic Boundary Files/world/level-1/world-level-1.zip')\n",
    "#world = world.rename(columns={\"GID_0\":\"isoalpha3\", 'NAME_1':'admin_name'})\n",
    "#country = world[world.isoalpha3=='GUY'].reset_index(drop=True)\n",
    "\n",
    "#del gdf_match['index_right']\n",
    "gdf_match['geometry'] = gdf_match['hex_poly'].copy()\n",
    "test = sjoin(country, gdf_match, how='left')\n",
    "level_1 = test.groupby(['admin_name', 'amenity'])['population'].sum().reset_index()\n",
    "t = level_1.groupby(['admin_name'])['population'].sum().reset_index().rename(columns={'population':'poptot'})\n",
    "level_1 = level_1.merge(t, on='admin_name', how='left')\n",
    "level_1['pct'] = level_1.population/level_1.poptot*100\n",
    "level_1 = level_1[level_1.amenity=='underserved'].sort_values('population', ascending=False)"
   ]
  },
  {
   "cell_type": "code",
   "execution_count": null,
   "id": "f931b49f",
   "metadata": {},
   "outputs": [],
   "source": [
    "level_1.sort_values('pct', ascending=False)"
   ]
  },
  {
   "cell_type": "code",
   "execution_count": null,
   "id": "cd961e69",
   "metadata": {},
   "outputs": [],
   "source": [
    "ax = sns.barplot(y=\"admin_name\", x=\"population\", data=level_1.head(10), palette=\"Blues_d\")\n",
    "ax"
   ]
  },
  {
   "cell_type": "code",
   "execution_count": null,
   "id": "ac81235e",
   "metadata": {},
   "outputs": [],
   "source": [
    "#!pip install mapclassify\n",
    "import mapclassify\n",
    "\n",
    "country_result = country.merge(level_1, on='admin_name', how='left')\n",
    "fig, ax = plt.subplots(1, figsize=(10, 6))\n",
    "country_result.plot( figsize=(9, 9), column='pct', \n",
    "                    ax=ax, \n",
    "                    scheme='QUANTILES', k=10, \n",
    "                     cmap='BuPu', legend=True,\n",
    "                     legend_kwds={'loc': 'center left', 'bbox_to_anchor':(1,0.5),  'fmt':\"{:.0f}\"})\n",
    "ax.set_title(f'Percentage of population without coverage - Level 1 {amenity} + {profile} + {time_profiles} min')"
   ]
  }
 ],
 "metadata": {
  "kernelspec": {
   "display_name": "conda_python3",
   "language": "python",
   "name": "conda_python3"
  },
  "language_info": {
   "codemirror_mode": {
    "name": "ipython",
    "version": 3
   },
   "file_extension": ".py",
   "mimetype": "text/x-python",
   "name": "python",
   "nbconvert_exporter": "python",
   "pygments_lexer": "ipython3",
   "version": "3.6.13"
  }
 },
 "nbformat": 4,
 "nbformat_minor": 5
}
